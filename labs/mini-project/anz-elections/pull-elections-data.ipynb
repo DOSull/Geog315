{
 "cells": [
  {
   "cell_type": "code",
   "execution_count": 3,
   "metadata": {},
   "outputs": [],
   "source": [
    "import requests\n",
    "import os\n",
    "import time"
   ]
  },
  {
   "cell_type": "code",
   "execution_count": 11,
   "metadata": {},
   "outputs": [],
   "source": [
    "year = 2020\n",
    "electorates = 72\n",
    "maori_electorates = 7\n",
    "baseURL = \"https://www.electionresults.govt.nz/electionresults_{}/statistics/csv/party-votes-by-voting-place-\".format(year)"
   ]
  },
  {
   "cell_type": "code",
   "execution_count": 12,
   "metadata": {},
   "outputs": [
    {
     "data": {
      "text/plain": [
       "'https://www.electionresults.govt.nz/electionresults_2020/statistics/csv/party-votes-by-voting-place-'"
      ]
     },
     "execution_count": 12,
     "metadata": {},
     "output_type": "execute_result"
    }
   ],
   "source": [
    "baseURL"
   ]
  },
  {
   "cell_type": "code",
   "execution_count": 9,
   "metadata": {},
   "outputs": [],
   "source": [
    "for n in range(electorates):\n",
    "    data = requests.get(baseURL + str(n + 1) + \".csv\")\n",
    "    f = open(\"data/electorate-\" + str(n + 1) + \".csv\", \"w\", encoding=\"iso-8859-1\")\n",
    "    f.write(data.text[3:])\n",
    "    f.close()\n",
    "    time.sleep(1)\n",
    "    "
   ]
  },
  {
   "cell_type": "code",
   "execution_count": 10,
   "metadata": {},
   "outputs": [],
   "source": [
    "electorate = \"\"\n",
    "place = \"\"\n",
    "\n",
    "for n in range(electorates):\n",
    "    f = open(\"data/electorate-\" + str(n + 1) + \".csv\", \"r\", encoding=\"utf-8\")\n",
    "    data = f.readlines()\n",
    "    f.close()\n",
    "    \n",
    "    if n == 0:\n",
    "        nm_data_to_write = [\"Electorate,Place,Address\" + data[2][1:]]\n",
    "        m_data_to_write = [\"Electorate,Place,Address\" + data[2][1:]]\n",
    "\n",
    "    regular_data = data[data.index(\"\\n\") + 2:]\n",
    "    regular_data = regular_data[:regular_data.index(\"\\n\")]\n",
    "\n",
    "    if n < (electorates - maori_electorates): # non-Maori electorates \n",
    "        electorate = '\"' + \" \".join(data[1].split(\",\")[0].split()[:-1]) + '\"'\n",
    "        for d in regular_data:\n",
    "            if d.split(\",\")[0] != \"\":\n",
    "                place = '\"' + d.split(\",\")[0] + '\"'\n",
    "            address = '\"' + d.split('\"')[1].replace(\"\\\\\", \"\") + '\"'\n",
    "            nm_data_to_write.append(electorate + \",\" + place + \",\" + address + \"\".join(d.split('\"')[2:]))\n",
    "    else:\n",
    "        for d in regular_data:\n",
    "            if len(d.split(\",\")) == 1:\n",
    "                electorate = '\"' + d[:-1] + '\"'\n",
    "            else:\n",
    "                if d.split(\",\")[0] != \"\":\n",
    "                    place = '\"' + d.split(\",\")[0] + '\"'\n",
    "                address = '\"' + d.split('\"')[1] + '\"'\n",
    "                m_data_to_write.append(electorate + \",\" + place + \",\" + address + \"\".join(d.split('\"')[2:]))\n",
    "\n",
    "new_filename = \"data/non-maori-electorates.csv\"\n",
    "f = open(new_filename, \"w\", encoding = \"utf-8\")\n",
    "f.writelines(nm_data_to_write)\n",
    "f.close()\n",
    "\n",
    "new_filename = \"data/maori-electorates.csv\"\n",
    "f = open(new_filename, \"w\", encoding = \"utf-8\")\n",
    "f.writelines(m_data_to_write)\n",
    "f.close()"
   ]
  },
  {
   "cell_type": "code",
   "execution_count": null,
   "metadata": {},
   "outputs": [],
   "source": []
  }
 ],
 "metadata": {
  "kernelspec": {
   "display_name": "Python 3",
   "language": "python",
   "name": "python3"
  },
  "language_info": {
   "codemirror_mode": {
    "name": "ipython",
    "version": 3
   },
   "file_extension": ".py",
   "mimetype": "text/x-python",
   "name": "python",
   "nbconvert_exporter": "python",
   "pygments_lexer": "ipython3",
   "version": "3.8.8"
  }
 },
 "nbformat": 4,
 "nbformat_minor": 4
}

{
 "cells": [
  {
   "cell_type": "code",
   "execution_count": 64,
   "metadata": {},
   "outputs": [],
   "source": [
    "import requests\n",
    "import os\n",
    "import time"
   ]
  },
  {
   "cell_type": "code",
   "execution_count": 65,
   "metadata": {},
   "outputs": [],
   "source": [
    "baseURL = \"https://www.electionresults.govt.nz/electionresults_2017/statistics/csv/party-votes-by-voting-place-\""
   ]
  },
  {
   "cell_type": "code",
   "execution_count": 73,
   "metadata": {},
   "outputs": [],
   "source": [
    "for n in range(71):\n",
    "    data = requests.get(baseURL + str(n + 1) + \".csv\")\n",
    "    f = open(\"electorate-\" + str(n + 1) + \".csv\", \"w\", encoding=\"iso-8859-1\")\n",
    "    f.write(data.text[3:])\n",
    "    f.close()\n",
    "    time.sleep(1)\n",
    "    "
   ]
  },
  {
   "cell_type": "code",
   "execution_count": 129,
   "metadata": {},
   "outputs": [],
   "source": [
    "electorate = \"\"\n",
    "place = \"\"\n",
    "\n",
    "for n in range(71):\n",
    "    f = open(\"electorate-\" + str(n + 1) + \".csv\", \"r\", encoding=\"utf-8\")\n",
    "    data = f.readlines()\n",
    "    f.close()\n",
    "    \n",
    "    if n == 0:\n",
    "        nm_data_to_write = [\"Electorate,Place,Address\" + data[2][1:]]\n",
    "        m_data_to_write = [\"Electorate,Place,Address\" + data[2][1:]]\n",
    "\n",
    "    regular_data = data[data.index(\"\\n\") + 2:]\n",
    "    regular_data = regular_data[:regular_data.index(\"\\n\")]\n",
    "\n",
    "    if n < 64: # non-Maori electorates \n",
    "        electorate = '\"' + \" \".join(data[1].split(\",\")[0].split()[:-1]) + '\"'\n",
    "        for d in regular_data:\n",
    "            if d.split(\",\")[0] != \"\":\n",
    "                place = '\"' + d.split(\",\")[0] + '\"'\n",
    "            address = '\"' + d.split('\"')[1].replace(\"\\\\\", \"\") + '\"'\n",
    "            nm_data_to_write.append(electorate + \",\" + place + \",\" + address + \"\".join(d.split('\"')[2:]))\n",
    "    else:\n",
    "        for d in regular_data:\n",
    "            if len(d.split(\",\")) == 1:\n",
    "                electorate = '\"' + d[:-1] + '\"'\n",
    "            else:\n",
    "                if d.split(\",\")[0] != \"\":\n",
    "                    place = '\"' + d.split(\",\")[0] + '\"'\n",
    "                address = '\"' + d.split('\"')[1] + '\"'\n",
    "                m_data_to_write.append(electorate + \",\" + place + \",\" + address + \"\".join(d.split('\"')[2:]))\n",
    "\n",
    "new_filename = \"non-maori-electorates.csv\"\n",
    "f = open(new_filename, \"w\", encoding = \"utf-8\")\n",
    "f.writelines(nm_data_to_write)\n",
    "f.close()\n",
    "\n",
    "new_filename = \"maori-electorates.csv\"\n",
    "f = open(new_filename, \"w\", encoding = \"utf-8\")\n",
    "f.writelines(m_data_to_write)\n",
    "f.close()"
   ]
  },
  {
   "cell_type": "code",
   "execution_count": null,
   "metadata": {},
   "outputs": [],
   "source": []
  }
 ],
 "metadata": {
  "kernelspec": {
   "display_name": "Python 3",
   "language": "python",
   "name": "python3"
  },
  "language_info": {
   "codemirror_mode": {
    "name": "ipython",
    "version": 3
   },
   "file_extension": ".py",
   "mimetype": "text/x-python",
   "name": "python",
   "nbconvert_exporter": "python",
   "pygments_lexer": "ipython3",
   "version": "3.7.6"
  }
 },
 "nbformat": 4,
 "nbformat_minor": 4
}
